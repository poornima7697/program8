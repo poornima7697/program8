{
 "cells": [
  {
   "cell_type": "code",
   "execution_count": 1,
   "id": "7e2c1f0b",
   "metadata": {},
   "outputs": [],
   "source": [
    "import numpy as np"
   ]
  },
  {
   "cell_type": "code",
   "execution_count": 74,
   "id": "5d25eaf4",
   "metadata": {},
   "outputs": [
    {
     "name": "stdout",
     "output_type": "stream",
     "text": [
      "Original arrays:\n",
      "Array1\n",
      "[[1 4 0]\n",
      " [8 9 5]\n",
      " [7 8 7]]\n",
      "Array2\n",
      "[1 5 2]\n",
      "New Array:\n",
      "[[ 2  9  2]\n",
      " [ 9 14  7]\n",
      " [ 8 13  9]]\n"
     ]
    }
   ],
   "source": [
    "#1.Write a NumPy program to broadcast on different shapes of arrays where p(3,3) + q(3).\n",
    "p = np.array([[1, 4, 0],\n",
    "              [8, 9, 5],\n",
    "              [7, 8, 7]]) \n",
    "q= np.array([1, 5, 2]) \n",
    "print(\"Original arrays:\")\n",
    "print(\"Array1\")\n",
    "print(p)\n",
    "print(\"Array2\")\n",
    "print(q)\n",
    "print(\"New Array:\")\n",
    "a = p + q \n",
    "print(a)"
   ]
  },
  {
   "cell_type": "code",
   "execution_count": 6,
   "id": "609f1521",
   "metadata": {},
   "outputs": [
    {
     "name": "stdout",
     "output_type": "stream",
     "text": [
      "Original array:\n",
      "[0 1 2 3 4 5 6 7 8 9]\n",
      "[3]\n"
     ]
    }
   ],
   "source": [
    "# 2.How to get the second largest value of an array when grouped by another array?\n",
    "a= np.arange(10)\n",
    "print(\"Original array:\")\n",
    "print(a)\n",
    "np.random.shuffle(a)\n",
    "n = 1\n",
    "print (x[np.argsort(a)[-n:]])"
   ]
  },
  {
   "cell_type": "code",
   "execution_count": 30,
   "id": "0e7e4e3a",
   "metadata": {},
   "outputs": [
    {
     "data": {
      "text/plain": [
       "array([[1, 2],\n",
       "       [2, 0]], dtype=int64)"
      ]
     },
     "execution_count": 30,
     "metadata": {},
     "output_type": "execute_result"
    }
   ],
   "source": [
    "# 3.How to find the position of missing values in numpy array?\n",
    "x = np.array([[1,2,3,4],\n",
    "              [2,3,np.nan,5],\n",
    "              [np.nan,5,2,3]])\n",
    "np.argwhere(np.isnan(x))"
   ]
  },
  {
   "cell_type": "code",
   "execution_count": 8,
   "id": "24c77a3d",
   "metadata": {},
   "outputs": [
    {
     "name": "stdout",
     "output_type": "stream",
     "text": [
      "[[0. 1. 1.]\n",
      " [0. 0. 2.]]\n"
     ]
    }
   ],
   "source": [
    "#4.How to find the position of missing values in numpy array?\n",
    "a1=np.array([[np.NaN, 1, 1], [np.NaN, np.NaN, 2]])\n",
    "a2=np.nan_to_num(a1)\n",
    "print(a2)"
   ]
  },
  {
   "cell_type": "code",
   "execution_count": 9,
   "id": "37494b41",
   "metadata": {},
   "outputs": [
    {
     "name": "stdout",
     "output_type": "stream",
     "text": [
      "[[[0.67046643 0.77330175 0.24270966]\n",
      "  [0.27235486 0.16161956 0.95201118]\n",
      "  [0.19966753 0.07783617 0.51366931]]\n",
      "\n",
      " [[0.72434299 0.10447032 0.66908041]\n",
      "  [0.00974872 0.50461865 0.61913772]\n",
      "  [0.29982351 0.75117514 0.75172406]]\n",
      "\n",
      " [[0.35000553 0.28302965 0.35465263]\n",
      "  [0.28041685 0.9796554  0.99845742]\n",
      "  [0.55785279 0.50159886 0.65607434]]]\n"
     ]
    }
   ],
   "source": [
    "#5.Write a NumPy program to create a 3x3x3 array with random values. \n",
    "a=np.random.random((3,3,3))\n",
    "print(a)"
   ]
  },
  {
   "cell_type": "code",
   "execution_count": 11,
   "id": "e3870f37",
   "metadata": {},
   "outputs": [
    {
     "name": "stdout",
     "output_type": "stream",
     "text": [
      "Original array:\n",
      "[0.52734599 0.82907907 0.30603462 0.37901624 0.3869507  0.85707995\n",
      " 0.3883426  0.51528393 0.10258771 0.34935695 0.19833731 0.31930673\n",
      " 0.63350169 0.52449066 0.77586065]\n",
      "Maximum value replaced by -1:\n",
      "[ 0.52734599  0.82907907  0.30603462  0.37901624  0.3869507  -1.\n",
      "  0.3883426   0.51528393  0.10258771  0.34935695  0.19833731  0.31930673\n",
      "  0.63350169  0.52449066  0.77586065]\n"
     ]
    }
   ],
   "source": [
    "#6.Write a NumPy program to create random vector of size 15 and replace the maximum value by -1.\n",
    "a3=np.random.random(15)\n",
    "print(\"Original array:\")\n",
    "print(a3)\n",
    "a3[a3.argmax()]=-1\n",
    "print(\"Maximum value replaced by -1:\")\n",
    "print(a3)"
   ]
  },
  {
   "cell_type": "code",
   "execution_count": 14,
   "id": "84ff36d1",
   "metadata": {},
   "outputs": [
    {
     "name": "stdout",
     "output_type": "stream",
     "text": [
      "Original array:\n",
      "[[9 1]\n",
      " [9 8]]\n",
      "Unique elements of the above array:\n",
      "[1 8 9]\n"
     ]
    }
   ],
   "source": [
    "#6.Write a NumPy program to get the unique elements of an array.\n",
    "a4=np.array([[9, 1], [9, 8]])\n",
    "print(\"Original array:\")\n",
    "print(a4)\n",
    "print(\"Unique elements of the above array:\")\n",
    "print(np.unique(a4))"
   ]
  },
  {
   "cell_type": "code",
   "execution_count": 16,
   "id": "318ce467",
   "metadata": {},
   "outputs": [
    {
     "name": "stdout",
     "output_type": "stream",
     "text": [
      "Original array: \n",
      "[[ 0 10 20]\n",
      " [20 30 40]]\n",
      "Values bigger than 10 = [20 20 30 40]\n"
     ]
    }
   ],
   "source": [
    "#7.Write a NumPy program to get the values and indices of the elements that are bigger than 10 in a given array.\n",
    "a5 = np.array([[0, 10, 20], [20, 30, 40]])\n",
    "print(\"Original array: \")\n",
    "print(a5)\n",
    "print(\"Values bigger than 10 =\", a5[a5>10])"
   ]
  },
  {
   "cell_type": "code",
   "execution_count": 17,
   "id": "26f7801f",
   "metadata": {},
   "outputs": [
    {
     "name": "stdout",
     "output_type": "stream",
     "text": [
      "Original array\n",
      "[0 1 2 3 4 5 6]\n",
      "First array elements raised to powers from second array, element-wise:\n",
      "[  0   1   8  27  64 125 216]\n"
     ]
    }
   ],
   "source": [
    "a6= np.arange(7)\n",
    "print(\"Original array\")\n",
    "print(a6)\n",
    "print(\"First array elements raised to powers from second array, element-wise:\")\n",
    "print(np.power(a6, 3))"
   ]
  },
  {
   "cell_type": "code",
   "execution_count": 20,
   "id": "8dbfc7fd",
   "metadata": {},
   "outputs": [
    {
     "name": "stdout",
     "output_type": "stream",
     "text": [
      "Original array:\n",
      "[-9 -4  0 21  7  8  2 -5]\n",
      "Replace the negative values of the said array with 0:\n",
      "[ 0  0  0 21  7  8  2  0]\n"
     ]
    }
   ],
   "source": [
    "#8.Write a NumPy program to remove the negative values in a NumPy array with 0.\n",
    "a8=np.array([-9,-4,0,21,7,8,2,-5])\n",
    "print(\"Original array:\")\n",
    "print(a8)\n",
    "print(\"Replace the negative values of the said array with 0:\")\n",
    "a8[a8<0]=0\n",
    "print(a8)"
   ]
  },
  {
   "cell_type": "code",
   "execution_count": 21,
   "id": "ced8e681",
   "metadata": {},
   "outputs": [
    {
     "name": "stdout",
     "output_type": "stream",
     "text": [
      "Original array:\n",
      "[-12.8    4.8    0.54]\n",
      "Element-wise absolute value:\n",
      "[12.8   4.8   0.54]\n"
     ]
    }
   ],
   "source": [
    "#9.Write a NumPy program to calculate the absolute value element-wise.\n",
    "a9=np.array([-12.8,4.8,.54])\n",
    "print(\"Original array:\")\n",
    "print(a9)\n",
    "print(\"Element-wise absolute value:\")\n",
    "print(np.absolute(a9))"
   ]
  },
  {
   "cell_type": "code",
   "execution_count": 80,
   "id": "c6c86dff",
   "metadata": {},
   "outputs": [
    {
     "name": "stdout",
     "output_type": "stream",
     "text": [
      "[ 1  2  9  4 25  6 49  8 81 10]\n"
     ]
    }
   ],
   "source": [
    "#10.Write a NumPy program to replace odd number in 2d array by its square . \n",
    "a10=np.array([1,2,3,4,5,6,7,8,9,10]) \n",
    "print(np.where(a10%2!=0,a10**2,a10)) \n",
    "#print(a10)\n",
    "\n",
    "\n"
   ]
  },
  {
   "cell_type": "markdown",
   "id": "34d81424",
   "metadata": {},
   "source": [
    "Assignment no-2\n"
   ]
  },
  {
   "cell_type": "code",
   "execution_count": 37,
   "id": "d3c047a2",
   "metadata": {},
   "outputs": [
    {
     "name": "stdout",
     "output_type": "stream",
     "text": [
      "Original array\n",
      "[ 1.  0. nan inf]\n",
      "Test element-wise for NaN:\n",
      "[False False  True False]\n"
     ]
    }
   ],
   "source": [
    "#1.Write a NumPy program to test element-wise for NaN of a given array.\n",
    "a=np.array([1, 0, np.nan, np.inf])\n",
    "print(\"Original array\")\n",
    "print(a)\n",
    "print(\"Test element-wise for NaN:\")\n",
    "print(np.isnan(a))"
   ]
  },
  {
   "cell_type": "code",
   "execution_count": 39,
   "id": "15eee684",
   "metadata": {},
   "outputs": [
    {
     "name": "stdout",
     "output_type": "stream",
     "text": [
      "Original vectors:\n",
      "[4 4]\n",
      "[ 1 16]\n",
      "Inner product of said vectors:\n",
      "68\n"
     ]
    }
   ],
   "source": [
    "#2.Write a NumPy program to compute the inner product of two given vectors .\n",
    "a1=np.array([4,4])\n",
    "b1=np.array([1,16])\n",
    "print(\"Original vectors:\")\n",
    "print(a1)\n",
    "print(b1)\n",
    "print(\"Inner product of said vectors:\")\n",
    "print(np.dot(a1,b1))"
   ]
  },
  {
   "cell_type": "code",
   "execution_count": 40,
   "id": "0587312c",
   "metadata": {},
   "outputs": [
    {
     "name": "stdout",
     "output_type": "stream",
     "text": [
      "[12 13 14 15 16 17 18 19 20 21 22 23 24 25 26 27 28 29 30 31 32 33 34 35\n",
      " 36 37]\n"
     ]
    }
   ],
   "source": [
    "#3.Write a NumPy program to create an array with values ranging from 12 to 38.\n",
    "x=np.arange(12,38)\n",
    "print(x)\n"
   ]
  },
  {
   "cell_type": "code",
   "execution_count": 42,
   "id": "3d149009",
   "metadata": {},
   "outputs": [
    {
     "name": "stdout",
     "output_type": "stream",
     "text": [
      "Reverse array:\n",
      "[37 36 35 34 33 32 31 30 29 28 27 26 25 24 23 22 21 20 19 18 17 16 15 14\n",
      " 13 12]\n"
     ]
    }
   ],
   "source": [
    "#4.Write a NumPy program to reverse an array (first element becomes last).\n",
    "print(\"Reverse array:\")\n",
    "x = x[::-1]\n",
    "print(x)"
   ]
  },
  {
   "cell_type": "code",
   "execution_count": 45,
   "id": "1a7b9f48",
   "metadata": {},
   "outputs": [
    {
     "name": "stdout",
     "output_type": "stream",
     "text": [
      "Original array\n",
      "[1, 2, 3, 4]\n",
      "Array converted to a float type:\n",
      "[1. 2. 3. 4.]\n"
     ]
    }
   ],
   "source": [
    "#5.Write a NumPy program to convert an array to a float type.\n",
    "a = [1, 2, 3, 4]\n",
    "print(\"Original array\")\n",
    "print(a)\n",
    "x = np.asfarray(a)\n",
    "print(\"Array converted to a float type:\")\n",
    "print(x)"
   ]
  },
  {
   "cell_type": "code",
   "execution_count": 48,
   "id": "5cfec826",
   "metadata": {},
   "outputs": [
    {
     "name": "stdout",
     "output_type": "stream",
     "text": [
      "Original array:\n",
      "[[1. 1. 1.]\n",
      " [1. 1. 1.]\n",
      " [1. 1. 1.]]\n",
      "1 on the border and 0 inside in the array\n",
      "[[1. 1. 1.]\n",
      " [1. 0. 1.]\n",
      " [1. 1. 1.]]\n"
     ]
    }
   ],
   "source": [
    "#6.Write a NumPy program to create a 2d array with 1 on the border and 0 inside.\n",
    "x = np.ones((3,3))\n",
    "print(\"Original array:\")\n",
    "print(x)\n",
    "print(\"1 on the border and 0 inside in the array\")\n",
    "x[1:-1,1:-1] = 0\n",
    "print(x)"
   ]
  },
  {
   "cell_type": "code",
   "execution_count": 51,
   "id": "c444a1da",
   "metadata": {},
   "outputs": [
    {
     "name": "stdout",
     "output_type": "stream",
     "text": [
      "Checkerboard pattern:\n",
      "[[0 1 0 1 0 1 0 1]\n",
      " [1 0 1 0 1 0 1 0]\n",
      " [0 1 0 1 0 1 0 1]\n",
      " [1 0 1 0 1 0 1 0]\n",
      " [0 1 0 1 0 1 0 1]\n",
      " [1 0 1 0 1 0 1 0]\n",
      " [0 1 0 1 0 1 0 1]\n",
      " [1 0 1 0 1 0 1 0]]\n"
     ]
    }
   ],
   "source": [
    "#7. Write a NumPy program to create a 8x8 matrix and fill it with a checkerboard pattern.  Checkerboard pattern:\n",
    "x1=np.ones((3,3))\n",
    "print(\"Checkerboard pattern:\")\n",
    "x1=np.zeros((8,8),dtype=int)\n",
    "x1[1::2,::2]=1\n",
    "x1[::2,1::2]=1\n",
    "print(x1)\n"
   ]
  },
  {
   "cell_type": "code",
   "execution_count": 54,
   "id": "e081ccc5",
   "metadata": {},
   "outputs": [
    {
     "name": "stdout",
     "output_type": "stream",
     "text": [
      "Original array:\n",
      "[5, 8, 9]\n",
      "After append values to the end of the array:\n",
      "[5 8 9 5 8 9 6 7 9]\n"
     ]
    }
   ],
   "source": [
    "#8.Write a NumPy program to append values to the end of an array.\n",
    "x = [5,8,9]\n",
    "print(\"Original array:\")\n",
    "print(x)\n",
    "x = np.append(x, [[5,8,9], [6,7,9]])\n",
    "print(\"After append values to the end of the array:\")\n",
    "print(x)"
   ]
  },
  {
   "cell_type": "code",
   "execution_count": 56,
   "id": "5f9b4cfb",
   "metadata": {},
   "outputs": [
    {
     "name": "stdout",
     "output_type": "stream",
     "text": [
      "Array1:  [ 1  5  8  7  9  6 45  4]\n",
      "Array2:  [9, 6]\n",
      "Compare each element of array1 and array2\n",
      "[False False False False  True  True False False]\n"
     ]
    }
   ],
   "source": [
    "#9.Write a NumPy program to test whether each element of a 1-D array is also present in a second array.\n",
    "array1 = np.array([1,5,8,7,9,6,45,4])\n",
    "print(\"Array1: \",array1)\n",
    "array2 = [9,6]\n",
    "print(\"Array2: \",array2)\n",
    "print(\"Compare each element of array1 and array2\")\n",
    "print(np.in1d(array1, array2))"
   ]
  },
  {
   "cell_type": "code",
   "execution_count": 58,
   "id": "f4545200",
   "metadata": {},
   "outputs": [
    {
     "name": "stdout",
     "output_type": "stream",
     "text": [
      "Original array:\n",
      "[1 5 8 9 1 5 7 3 2]\n",
      "Unique elements of the above array:\n",
      "[1 2 3 5 7 8 9]\n"
     ]
    }
   ],
   "source": [
    "#10.Write a NumPy program to get the unique elements of an array\n",
    "x = np.array([1,5,8,9,1,5,7,3,2])\n",
    "print(\"Original array:\")\n",
    "print(x)\n",
    "print(\"Unique elements of the above array:\")\n",
    "print(np.unique(x))"
   ]
  },
  {
   "cell_type": "code",
   "execution_count": 59,
   "id": "76d8d86d",
   "metadata": {},
   "outputs": [
    {
     "name": "stdout",
     "output_type": "stream",
     "text": [
      "Original array:  [1 2 3 4 5 6]\n",
      "Maximum Values:  5\n",
      "Minimum Values:  0\n"
     ]
    }
   ],
   "source": [
    "#11.Write a NumPy program to find the indices of the maximum and minimum values along the given axis of an array.\n",
    "x = np.array([1, 2, 3, 4, 5, 6])\n",
    "print(\"Original array: \",x)\n",
    "print(\"Maximum Values: \",np.argmax(x))\n",
    "print(\"Minimum Values: \",np.argmin(x))"
   ]
  },
  {
   "cell_type": "code",
   "execution_count": 60,
   "id": "30113708",
   "metadata": {},
   "outputs": [
    {
     "name": "stdout",
     "output_type": "stream",
     "text": [
      "Original array:\n",
      "[[11 55 78]\n",
      " [ 1  2  6]]\n",
      "New flattened array:\n",
      "[11 55 78  1  2  6]\n"
     ]
    }
   ],
   "source": [
    "#12.Write a NumPy program to create a contiguous flattened array\n",
    "x = np.array([[11,55,78],[1,2,6]])\n",
    "print(\"Original array:\")\n",
    "print(x)\n",
    "y = np.ravel(x)\n",
    "print(\"New flattened array:\")\n",
    "print(y)\n"
   ]
  },
  {
   "cell_type": "code",
   "execution_count": 62,
   "id": "54d8825f",
   "metadata": {},
   "outputs": [
    {
     "name": "stdout",
     "output_type": "stream",
     "text": [
      "[[ 1  2  3  7  8  9]\n",
      " [ 4  5  6 10 11 12]]\n"
     ]
    }
   ],
   "source": [
    "#13.Write a NumPy program to concatenate two 2-dimensional arrays\n",
    "a = np.array([[1,2,3],[4,5,6]])\n",
    "b = np.array([[7,8,9],[10,11,12]])\n",
    "c = np.concatenate((a, b), 1)\n",
    "print(c)"
   ]
  },
  {
   "cell_type": "code",
   "execution_count": 63,
   "id": "fecee728",
   "metadata": {},
   "outputs": [
    {
     "name": "stdout",
     "output_type": "stream",
     "text": [
      "[[10 40]\n",
      " [20 50]\n",
      " [30 60]]\n"
     ]
    }
   ],
   "source": [
    "#14.Write a NumPy program to convert 1-D arrays as columns into a 2-D array. \n",
    "a = np.array((10,20,30))\n",
    "b = np.array((40,50,60))\n",
    "c = np.column_stack((a, b))\n",
    "print(c)"
   ]
  },
  {
   "cell_type": "code",
   "execution_count": 65,
   "id": "3aab5b0f",
   "metadata": {},
   "outputs": [
    {
     "name": "stdout",
     "output_type": "stream",
     "text": [
      "[ 3  5  6  9 10 12 15 18 20 21 24 25 27 30 33 35 36 39 40 42 45 48 50 51\n",
      " 54 55 57 60 63 65 66 69 70 72 75 78 80 81 84 85 87 90 93 95 96 99]\n",
      "2318\n"
     ]
    }
   ],
   "source": [
    "#15.Write a NumPy program (using NumPy) to sum of all the multiples of 3 or 5 below 100. \n",
    "x = np.arange(1, 100)\n",
    "# find  multiple of 3 or 5\n",
    "n= x[(x % 3 == 0) | (x % 5 == 0)]\n",
    "print(n[:1000])\n",
    "# print sum the numbers\n",
    "print(n.sum())"
   ]
  },
  {
   "cell_type": "code",
   "execution_count": 66,
   "id": "e68d58d0",
   "metadata": {},
   "outputs": [
    {
     "name": "stdout",
     "output_type": "stream",
     "text": [
      "Original array:\n",
      "[[1 2 3]\n",
      " [4 5 6]]\n",
      "Index of a maximum element in a numpy array along one axis:\n",
      "6\n"
     ]
    }
   ],
   "source": [
    "#16.Write a NumPy program to get the index of a maximum element in a NumPy array along one axis.\n",
    "a = np.array([[1,2,3],[4,5,6]])\n",
    "print(\"Original array:\")\n",
    "print(a)\n",
    "i,j = np.unravel_index(a.argmax(), a.shape)\n",
    "print(\"Index of a maximum element in a numpy array along one axis:\")\n",
    "print(a[i,j])"
   ]
  },
  {
   "cell_type": "code",
   "execution_count": 68,
   "id": "a5968e7a",
   "metadata": {},
   "outputs": [
    {
     "name": "stdout",
     "output_type": "stream",
     "text": [
      "Array-1\n",
      "[1 2 3]\n",
      "Array-2\n",
      "[4 5 6]\n",
      "\n",
      "Stack 1-D arrays as rows wise:\n",
      "[[1 2 3]\n",
      " [4 5 6]]\n"
     ]
    }
   ],
   "source": [
    "#17.Write a NumPy program to stack 1-D arrays as row wise. \n",
    "a=np.array((1,2,3))\n",
    "b=np.array((4,5,6))\n",
    "print(\"Array-1\")\n",
    "print(a)\n",
    "print(\"Array-2\")\n",
    "print(b)\n",
    "c=np.row_stack((a,b))\n",
    "print(\"\\nStack 1-D arrays as rows wise:\")\n",
    "print(c)"
   ]
  },
  {
   "cell_type": "code",
   "execution_count": 69,
   "id": "84be1045",
   "metadata": {},
   "outputs": [
    {
     "name": "stdout",
     "output_type": "stream",
     "text": [
      "\n",
      "Original array:\n",
      "[[0 1]\n",
      " [2 3]]\n",
      "\n",
      "Maximum value along the second axis:\n",
      "[1 3]\n",
      "Minimum value along the second axis:\n",
      "[0 2]\n"
     ]
    }
   ],
   "source": [
    "#18.Write a NumPy program to get the minimum and maximum value of a given array along the second axis. \n",
    "x=np.arange(4).reshape((2,2))\n",
    "print(\"\\nOriginal array:\")\n",
    "print(x)\n",
    "print(\"\\nMaximum value along the second axis:\")\n",
    "print(np.amax(x, 1))\n",
    "print(\"Minimum value along the second axis:\")\n",
    "print(np.amin(x, 1))"
   ]
  },
  {
   "cell_type": "code",
   "execution_count": null,
   "id": "38768308",
   "metadata": {},
   "outputs": [],
   "source": []
  }
 ],
 "metadata": {
  "kernelspec": {
   "display_name": "Python 3 (ipykernel)",
   "language": "python",
   "name": "python3"
  },
  "language_info": {
   "codemirror_mode": {
    "name": "ipython",
    "version": 3
   },
   "file_extension": ".py",
   "mimetype": "text/x-python",
   "name": "python",
   "nbconvert_exporter": "python",
   "pygments_lexer": "ipython3",
   "version": "3.9.7"
  }
 },
 "nbformat": 4,
 "nbformat_minor": 5
}
